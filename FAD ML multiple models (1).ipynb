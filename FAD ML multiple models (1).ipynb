{
 "cells": [
  {
   "cell_type": "code",
   "execution_count": 1,
   "id": "07729af5-2207-4c42-b7b2-37ab45ab741c",
   "metadata": {},
   "outputs": [
    {
     "name": "stderr",
     "output_type": "stream",
     "text": [
      "ERROR 1: PROJ: proj_create_from_database: Open of /opt/miniconda3/envs/jupyterhub/share/proj failed\n"
     ]
    }
   ],
   "source": [
    "import geojson\n",
    "import pandas as pd\n",
    "import numpy as np\n",
    "\n",
    "from sklearn import linear_model\n",
    "from sklearn.metrics import mean_absolute_error\n",
    "\n",
    "import datetime\n",
    "\n",
    "from pyproj import Transformer\n",
    "\n",
    "import statistics\n",
    "\n",
    "import matplotlib.pyplot as plt\n",
    "import cartopy.crs as ccrs\n",
    "import cartopy.feature as cfeature"
   ]
  },
  {
   "cell_type": "code",
   "execution_count": 2,
   "id": "727ef656-2f30-4058-be1f-ea69ea8548f9",
   "metadata": {},
   "outputs": [],
   "source": [
    "def read_data(file):\n",
    "    \n",
    "    #Read file:\n",
    "    \n",
    "    with open(file) as data:\n",
    "            gj = geojson.load(data)\n",
    "        \n",
    "    d = {'Latitude': [],'Longitude': [], 'Time': []}\n",
    "    track = pd.DataFrame(data=d)\n",
    "\n",
    "    for i in range(len(gj.features)):\n",
    "        try:\n",
    "            coords = gj.features[i].geometry.coordinates\n",
    "            time = gj.features[i].properties['Timestamp2']\n",
    "            d = {'Latitude': coords[1],'Longitude': coords[0], 'Time': time}\n",
    "            df = pd.DataFrame(data=d,index=[0])\n",
    "            track = pd.concat([track, df],ignore_index=True)\n",
    "        except:\n",
    "            #print('Note: FAD timestep is missing coordinates')\n",
    "            continue\n",
    "            \n",
    "            \n",
    "    #Get elapsed times, positions and change in positions:        \n",
    "            \n",
    "    times = []\n",
    "    positions = []\n",
    "\n",
    "    times.append(0)\n",
    "    transformer = Transformer.from_crs(\"EPSG:4326\",\"EPSG:3832\",always_xy=True)\n",
    "    x,y = transformer.transform(track.Longitude[0],track.Latitude[0])\n",
    "    positions.append([x,y])\n",
    "    \n",
    "    for i in range(1,track.shape[0]):\n",
    "        time_elapsed = ( datetime.datetime.strptime(track.Time[i], '%Y-%m-%dT%H:%M:%S') - datetime.datetime.strptime(track.Time[i-1], '%Y-%m-%dT%H:%M:%S') ).total_seconds()\n",
    "        times.append(time_elapsed)\n",
    "    \n",
    "        transformer = Transformer.from_crs(\"EPSG:4326\",\"EPSG:3832\",always_xy=True)\n",
    "        x,y = transformer.transform(track.Longitude[i],track.Latitude[i])\n",
    "        positions.append([x,y])\n",
    "\n",
    "    times = np.array(times)\n",
    "    times = times.reshape(times.shape[0],1)\n",
    "\n",
    "    positions = np.array(positions)\n",
    "    positions = positions.reshape(positions.shape[0],2)\n",
    "    \n",
    "    change_in_positions = np.zeros_like(positions)\n",
    "    for i in range(positions.shape[0]-1,0,-1):\n",
    "        change_in_positions[i,:] = positions[i,:] - positions[i-1,:]\n",
    "    change_in_positions[0,:] = [0,0]\n",
    "    \n",
    "    \n",
    "    return times, positions, change_in_positions"
   ]
  },
  {
   "cell_type": "code",
   "execution_count": 3,
   "id": "4b3b79a9-9d87-4fee-b29e-10f1f391e53b",
   "metadata": {},
   "outputs": [],
   "source": [
    "def prepare_data(times, change_in_positions, number_of_predicted, number_previous_points, index):\n",
    "\n",
    "    number_data_points = change_in_positions.shape[0] - number_of_predicted - index - number_previous_points + 1\n",
    "    data = np.zeros((number_data_points,3*number_previous_points + 1))\n",
    "\n",
    "    for j in range(number_data_points):\n",
    "        row = []\n",
    "        for i in range(number_previous_points):\n",
    "            row = np.concatenate((row,times[j+i],change_in_positions[j+i,:]))\n",
    "        row = np.concatenate((row,times[j+number_previous_points+index-1]))\n",
    "        data[j,:] = row\n",
    "\n",
    "\n",
    "    data_predict = []\n",
    "    for i in range(-number_of_predicted-number_previous_points,-number_of_predicted):\n",
    "        data_predict = np.concatenate((data_predict,times[i],change_in_positions[i,:]))\n",
    "    data_predict = np.concatenate((data_predict,times[index-1-number_of_predicted]))\n",
    "\n",
    "    \n",
    "    targets = change_in_positions[number_previous_points+index-1:-number_of_predicted,:]\n",
    "    \n",
    "    return data, data_predict, targets"
   ]
  },
  {
   "cell_type": "code",
   "execution_count": 4,
   "id": "1b3308d1-95ef-48ce-b060-372b713adae2",
   "metadata": {},
   "outputs": [],
   "source": [
    "def linear_regression_model(data_train, data_predict, targets):\n",
    "    \n",
    "    \n",
    "    #Train model:\n",
    "    regr = linear_model.LinearRegression()\n",
    "    regr.fit(data_train, targets)\n",
    "    #print(regr.coef_)\n",
    "    \n",
    "    \n",
    "    #Using model to predict:\n",
    "    predicted_changes = regr.predict([data_predict])\n",
    "\n",
    "    return predicted_changes"
   ]
  },
  {
   "cell_type": "code",
   "execution_count": 5,
   "id": "67346027-3ec1-4ca3-95fd-1fbdce41c60c",
   "metadata": {},
   "outputs": [],
   "source": [
    "def plot_results(positions, predicted_change_in_positions, number_of_predicted):\n",
    "\n",
    "    \n",
    "    #Find predicted positions and errors:\n",
    "    positions_pred = np.zeros_like(predicted_change_in_positions)\n",
    "\n",
    "    positions_pred[0,:] = positions[-(number_of_predicted + 1),:] + predicted_change_in_positions[0,:]\n",
    "    errors = [mean_absolute_error(positions_pred[0,:], positions[-number_of_predicted,:])/1000]\n",
    "    \n",
    "    for j in range(1,number_of_predicted):\n",
    "        positions_pred[j,:] = positions_pred[j-1,:] + predicted_change_in_positions[j,:]\n",
    "        errors.append(mean_absolute_error(positions_pred[j,:], positions[j-number_of_predicted,:])/1000)\n",
    "            \n",
    "    print('Average error: ' + str(round(statistics.mean(errors),2)) + 'km')\n",
    "\n",
    "\n",
    "    #Make plot:\n",
    "    transformer = Transformer.from_crs(\"EPSG:3832\",\"EPSG:4326\",always_xy=True)\n",
    "\n",
    "    long_min, lat_min = transformer.transform(min(positions[:,0]),min(positions[:,1]))\n",
    "    long_max, lat_max = transformer.transform(max(positions[:,0]),max(positions[:,1]))\n",
    "\n",
    "    fig = plt.figure(figsize=(7, 5), constrained_layout=True)\n",
    "    ax = fig.add_subplot(1, 1, 1, projection=ccrs.PlateCarree())\n",
    "\n",
    "    ax.set_extent([long_min-0.4, long_max+0.4,lat_min-0.4, lat_max+0.4], crs=ccrs.PlateCarree())\n",
    "    ax.add_feature(cfeature.LAND)\n",
    "    ax.add_feature(cfeature.OCEAN)\n",
    "    ax.add_feature(cfeature.COASTLINE)\n",
    "    ax.add_feature(cfeature.RIVERS)\n",
    "\n",
    "    #Find lat/long of actual positions:\n",
    "    long = np.zeros(positions.shape[0])\n",
    "    lat = np.zeros(positions.shape[0])\n",
    "\n",
    "    for j in range(positions.shape[0]):\n",
    "        long[j],lat[j] = transformer.transform(positions[j,0],positions[j,1])\n",
    "    \n",
    "    #Find lat/long of predicted positions:\n",
    "    long_pred = np.zeros(positions_pred.shape[0])\n",
    "    lat_pred = np.zeros(positions_pred.shape[0])\n",
    "\n",
    "    for k in range(positions_pred.shape[0]):\n",
    "        long_pred[k],lat_pred[k] = transformer.transform(positions_pred[k,0],positions_pred[k,1])\n",
    "    \n",
    "    #Plot\n",
    "    plt.plot(long[:-number_of_predicted],lat[:-number_of_predicted],'r.',label='Training positions',alpha=0.1)\n",
    "    plt.plot(long[-number_of_predicted:],lat[-number_of_predicted:],'r.',label='Actual positions')\n",
    "    plt.plot(long_pred,lat_pred,'b.',label='Predicted positions')\n",
    "    plt.title(\"Actual and predicted positions of FAD\")\n",
    "    plt.legend()\n",
    "\n",
    "    return errors"
   ]
  },
  {
   "cell_type": "code",
   "execution_count": 6,
   "id": "d0b973c9-548b-4cb8-8a23-f3a935a0ce35",
   "metadata": {
    "tags": []
   },
   "outputs": [
    {
     "name": "stdout",
     "output_type": "stream",
     "text": [
      "Average error: 4.02km\n"
     ]
    },
    {
     "data": {
      "image/png": "[encoded data removed]",
      "text/plain": [
       "<Figure size 700x500 with 1 Axes>"
      ]
     },
     "metadata": {},
     "output_type": "display_data"
    }
   ],
   "source": [
    "### MAIN PROGRAM ###\n",
    "track_file = 'track_370081.geojson'\n",
    "number_of_predicted = 15\n",
    "number_previous_points = 12\n",
    "\n",
    "times, positions, change_in_positions = read_data(track_file)\n",
    "\n",
    "predicted_changes = np.zeros((number_of_predicted,2)).astype(float)\n",
    "\n",
    "for index in range(number_of_predicted):\n",
    "    \n",
    "    data, data_predict, targets = prepare_data(times, change_in_positions, number_of_predicted, number_previous_points, index+1)\n",
    "    \n",
    "    predicted_change_in_positions = linear_regression_model(data, data_predict, targets)\n",
    "    predicted_changes[index] = predicted_change_in_positions[0]\n",
    "            \n",
    "\n",
    "errors = plot_results(positions, predicted_changes, number_of_predicted)"
   ]
  },
  {
   "cell_type": "code",
   "execution_count": 7,
   "id": "0891a396-e0cd-4ab4-9557-265e50023cf3",
   "metadata": {
    "tags": []
   },
   "outputs": [
    {
     "data": {
      "text/plain": [
       "Text(0.5, 0, 'index')"
      ]
     },
     "execution_count": 7,
     "metadata": {},
     "output_type": "execute_result"
    },
    {
     "data": {
      "image/png": "[encoded data removed]",
      "text/plain": [
       "<Figure size 640x480 with 1 Axes>"
      ]
     },
     "metadata": {},
     "output_type": "display_data"
    }
   ],
   "source": [
    "plt.plot(errors)\n",
    "plt.ylabel('Absolute error (km)')\n",
    "plt.xlabel('index')"
   ]
  },
  {
   "cell_type": "code",
   "execution_count": null,
   "id": "c9fcb293-e8d3-4683-bf71-891a88cbb6ba",
   "metadata": {},
   "outputs": [],
   "source": []
  }
 ],
 "metadata": {
  "kernelspec": {
   "display_name": "Python 3 (ipykernel)",
   "language": "python",
   "name": "python3"
  },
  "language_info": {
   "codemirror_mode": {
    "name": "ipython",
    "version": 3
   },
   "file_extension": ".py",
   "mimetype": "text/x-python",
   "name": "python",
   "nbconvert_exporter": "python",
   "pygments_lexer": "ipython3",
   "version": "3.9.18"
  }
 },
 "nbformat": 4,
 "nbformat_minor": 5
}
